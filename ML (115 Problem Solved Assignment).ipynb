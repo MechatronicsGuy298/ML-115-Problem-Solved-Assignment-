{
 "cells": [
  {
   "cell_type": "code",
   "execution_count": 1,
   "id": "edfbe281",
   "metadata": {},
   "outputs": [
    {
     "name": "stdout",
     "output_type": "stream",
     "text": [
      "After swapping: a = 10 b = 5\n"
     ]
    }
   ],
   "source": [
    "a = 5\n",
    "b = 10\n",
    "\n",
    "a, b = b, a\n",
    "\n",
    "print(\"After swapping: a =\", a, \"b =\", b)"
   ]
  },
  {
   "cell_type": "code",
   "execution_count": 2,
   "id": "837ea9d9",
   "metadata": {},
   "outputs": [
    {
     "name": "stdout",
     "output_type": "stream",
     "text": [
      "Enter an integer: 25\n",
      "25 is odd.\n"
     ]
    }
   ],
   "source": [
    "num = int(input(\"Enter an integer: \"))\n",
    "\n",
    "if num % 2 == 0:\n",
    "    print(num, \"is even.\")\n",
    "else:\n",
    "    print(num, \"is odd.\")"
   ]
  },
  {
   "cell_type": "code",
   "execution_count": 3,
   "id": "d53f7a80",
   "metadata": {},
   "outputs": [
    {
     "name": "stdout",
     "output_type": "stream",
     "text": [
      "Original string: Hello, World!\n",
      "Reversed string: !dlroW ,olleH\n"
     ]
    }
   ],
   "source": [
    "def reverse_string(input_str):\n",
    "    return input_str[::-1]\n",
    "\n",
    "original_str = \"Hello, World!\"\n",
    "reversed_str = reverse_string(original_str)\n",
    "\n",
    "print(\"Original string:\", original_str)\n",
    "print(\"Reversed string:\", reversed_str)"
   ]
  },
  {
   "cell_type": "code",
   "execution_count": 4,
   "id": "dbbb0dab",
   "metadata": {},
   "outputs": [
    {
     "name": "stdout",
     "output_type": "stream",
     "text": [
      "Original list: [1, 2, 3, 4, 5]\n",
      "Converted list: ['1', '2', '3', '4', '5']\n"
     ]
    }
   ],
   "source": [
    "integer_list = [1, 2, 3, 4, 5]\n",
    "\n",
    "string_list = list(map(str, integer_list))\n",
    "\n",
    "print(\"Original list:\", integer_list)\n",
    "print(\"Converted list:\", string_list)"
   ]
  },
  {
   "cell_type": "code",
   "execution_count": 5,
   "id": "04389d1a",
   "metadata": {},
   "outputs": [
    {
     "name": "stdout",
     "output_type": "stream",
     "text": [
      "Enter temperature in Celsius: 98\n",
      "Temperature in Fahrenheit: 208.4\n"
     ]
    }
   ],
   "source": [
    "celsius_temperature = float(input(\"Enter temperature in Celsius: \"))\n",
    "\n",
    "fahrenheit_temperature = (celsius_temperature * 9/5) + 32\n",
    "\n",
    "print(\"Temperature in Fahrenheit:\", fahrenheit_temperature)"
   ]
  },
  {
   "cell_type": "code",
   "execution_count": 6,
   "id": "cb1ffa67",
   "metadata": {},
   "outputs": [
    {
     "name": "stdout",
     "output_type": "stream",
     "text": [
      "Data type of the variable: float\n"
     ]
    }
   ],
   "source": [
    "def check_data_type(variable):\n",
    "    return type(variable).__name__\n",
    "\n",
    "variable_to_check = 10.5\n",
    "\n",
    "data_type = check_data_type(variable_to_check)\n",
    "\n",
    "print(\"Data type of the variable:\", data_type)"
   ]
  },
  {
   "cell_type": "code",
   "execution_count": 7,
   "id": "d375963d",
   "metadata": {},
   "outputs": [
    {
     "name": "stdout",
     "output_type": "stream",
     "text": [
      "radar is a palindrome.\n"
     ]
    }
   ],
   "source": [
    "def is_palindrome(input_str):\n",
    "    return input_str == input_str[::-1]\n",
    "\n",
    "test_str = \"radar\"\n",
    "\n",
    "if is_palindrome(test_str):\n",
    "    print(test_str, \"is a palindrome.\")\n",
    "else:\n",
    "    print(test_str, \"is not a palindrome.\")"
   ]
  },
  {
   "cell_type": "code",
   "execution_count": 8,
   "id": "1a941d92",
   "metadata": {},
   "outputs": [
    {
     "name": "stdout",
     "output_type": "stream",
     "text": [
      "Original string: Python is fun!\n",
      "Reversed string: !nuf si nohtyP\n"
     ]
    }
   ],
   "source": [
    "def reverse_string_with_slicing(input_str):\n",
    "    return input_str[::-1]\n",
    "\n",
    "original_str = \"Python is fun!\"\n",
    "reversed_str = reverse_string_with_slicing(original_str)\n",
    "\n",
    "print(\"Original string:\", original_str)\n",
    "print(\"Reversed string:\", reversed_str)"
   ]
  },
  {
   "cell_type": "code",
   "execution_count": 9,
   "id": "9495678c",
   "metadata": {},
   "outputs": [
    {
     "name": "stdout",
     "output_type": "stream",
     "text": [
      "Concatenated string: HelloWorld\n"
     ]
    }
   ],
   "source": [
    "string1 = \"Hello\"\n",
    "string2 = \"World\"\n",
    "\n",
    "concatenated_string = ''.join([string1, string2])\n",
    "\n",
    "print(\"Concatenated string:\", concatenated_string)"
   ]
  },
  {
   "cell_type": "code",
   "execution_count": 10,
   "id": "98578c08",
   "metadata": {},
   "outputs": [
    {
     "name": "stdout",
     "output_type": "stream",
     "text": [
      "114.5 is the answer.\n"
     ]
    }
   ],
   "source": [
    "a = '100'\n",
    "b = 25\n",
    "c = '10.5'\n",
    "\n",
    "result = int(a) + b\n",
    "result -= float(c)\n",
    "result = str(result) + \" is the answer.\"\n",
    "\n",
    "print(result)"
   ]
  },
  {
   "cell_type": "code",
   "execution_count": 14,
   "id": "7e809336",
   "metadata": {},
   "outputs": [
    {
     "name": "stdout",
     "output_type": "stream",
     "text": [
      "Enter a number: 25\n",
      "Positive number\n"
     ]
    }
   ],
   "source": [
    "number = float(input(\"Enter a number: \"))\n",
    "\n",
    "if number > 0:\n",
    "    print(\"Positive number\")\n",
    "elif number < 0:\n",
    "    print(\"Negative number\")\n",
    "else:\n",
    "    print(\"Zero\")"
   ]
  },
  {
   "cell_type": "code",
   "execution_count": 16,
   "id": "3c278974",
   "metadata": {},
   "outputs": [
    {
     "name": "stdout",
     "output_type": "stream",
     "text": [
      "Enter the first number: 14\n",
      "Enter the second number: 25\n",
      "Enter the third number: 75\n",
      "The largest number is: 75.0\n"
     ]
    }
   ],
   "source": [
    "num1 = float(input(\"Enter the first number: \"))\n",
    "num2 = float(input(\"Enter the second number: \"))\n",
    "num3 = float(input(\"Enter the third number: \"))\n",
    "\n",
    "largest = max(num1, num2, num3)\n",
    "\n",
    "print(\"The largest number is:\", largest)"
   ]
  },
  {
   "cell_type": "code",
   "execution_count": 18,
   "id": "2303e203",
   "metadata": {},
   "outputs": [
    {
     "name": "stdout",
     "output_type": "stream",
     "text": [
      "Enter a year: 2016\n",
      "2016 is a leap year.\n"
     ]
    }
   ],
   "source": [
    "def is_leap_year(year):\n",
    "    if (year % 4 == 0 and year % 100 != 0) or (year % 400 == 0):\n",
    "        return True\n",
    "    else:\n",
    "        return False\n",
    "\n",
    "year = int(input(\"Enter a year: \"))\n",
    "\n",
    "if is_leap_year(year):\n",
    "    print(year, \"is a leap year.\")\n",
    "else:\n",
    "    print(year, \"is not a leap year.\")"
   ]
  },
  {
   "cell_type": "code",
   "execution_count": 19,
   "id": "a26fa702",
   "metadata": {},
   "outputs": [
    {
     "name": "stdout",
     "output_type": "stream",
     "text": [
      "Enter student's percentage: 75\n",
      "Grade: B\n"
     ]
    }
   ],
   "source": [
    "percentage = float(input(\"Enter student's percentage: \"))\n",
    "\n",
    "if percentage >= 90:\n",
    "    print(\"Grade: A+\")\n",
    "elif 80 <= percentage < 90:\n",
    "    print(\"Grade: A\")\n",
    "elif 70 <= percentage < 80:\n",
    "    print(\"Grade: B\")\n",
    "elif 60 <= percentage < 70:\n",
    "    print(\"Grade: C\")\n",
    "else:\n",
    "    print(\"Fail\")"
   ]
  },
  {
   "cell_type": "code",
   "execution_count": 20,
   "id": "e8c6f771",
   "metadata": {},
   "outputs": [
    {
     "name": "stdout",
     "output_type": "stream",
     "text": [
      "Enter a character: I\n",
      "I is a vowel.\n"
     ]
    }
   ],
   "source": [
    "char = input(\"Enter a character: \")\n",
    "\n",
    "if char.lower() in ['a', 'e', 'i', 'o', 'u']:\n",
    "    print(char, \"is a vowel.\")\n",
    "else:\n",
    "    print(char, \"is a consonant.\")"
   ]
  },
  {
   "cell_type": "code",
   "execution_count": 21,
   "id": "8cea7c65",
   "metadata": {},
   "outputs": [
    {
     "name": "stdout",
     "output_type": "stream",
     "text": [
      "Enter the time in hours (24-hour format): 15\n",
      "Good Afternoon\n"
     ]
    }
   ],
   "source": [
    "hours = int(input(\"Enter the time in hours (24-hour format): \"))\n",
    "\n",
    "if 0 <= hours < 12:\n",
    "    print(\"Good Morning\")\n",
    "elif 12 <= hours < 17:\n",
    "    print(\"Good Afternoon\")\n",
    "elif 17 <= hours < 20:\n",
    "    print(\"Good Evening\")\n",
    "else:\n",
    "    print(\"Good Night\")"
   ]
  },
  {
   "cell_type": "code",
   "execution_count": 22,
   "id": "e6a8a164",
   "metadata": {},
   "outputs": [
    {
     "name": "stdout",
     "output_type": "stream",
     "text": [
      "Enter side a: 5\n",
      "Enter side b: 10\n",
      "Enter side c: 25\n",
      "Scalene triangle\n"
     ]
    }
   ],
   "source": [
    "a = float(input(\"Enter side a: \"))\n",
    "b = float(input(\"Enter side b: \"))\n",
    "c = float(input(\"Enter side c: \"))\n",
    "if a == b == c:\n",
    "    print(\"Equilateral triangle\")\n",
    "elif a == b or b == c or c == a:\n",
    "    print(\"Isosceles triangle\")\n",
    "else:\n",
    "    print(\"Scalene triangle\")"
   ]
  },
  {
   "cell_type": "code",
   "execution_count": 23,
   "id": "435b352e",
   "metadata": {},
   "outputs": [
    {
     "name": "stdout",
     "output_type": "stream",
     "text": [
      "Enter coefficient a: 25\n",
      "Enter coefficient b: 20\n",
      "Enter coefficient c: 35\n",
      "Complex roots\n",
      "Root 1: (-0.4-1.1135528725660044j)\n",
      "Root 2: (-0.4+1.1135528725660044j)\n"
     ]
    }
   ],
   "source": [
    "import cmath\n",
    "a = float(input(\"Enter coefficient a: \"))\n",
    "b = float(input(\"Enter coefficient b: \"))\n",
    "c = float(input(\"Enter coefficient c: \"))\n",
    "d = (b**2) - (4*a*c)\n",
    "root1 = (-b-cmath.sqrt(d))/(2*a)\n",
    "root2 = (-b+cmath.sqrt(d))/(2*a)\n",
    "if d > 0:\n",
    "    print(\"Real and distinct roots\")\n",
    "    print(\"Root 1:\", root1)\n",
    "    print(\"Root 2:\", root2)\n",
    "elif d == 0:\n",
    "    print(\"Real and equal roots\")\n",
    "    print(\"Root 1:\", root1)\n",
    "    print(\"Root 2:\", root2)\n",
    "else:\n",
    "    print(\"Complex roots\")\n",
    "    print(\"Root 1:\", root1)\n",
    "    print(\"Root 2:\", root2)"
   ]
  },
  {
   "cell_type": "code",
   "execution_count": 24,
   "id": "f383adef",
   "metadata": {},
   "outputs": [
    {
     "name": "stdout",
     "output_type": "stream",
     "text": [
      "Enter a number: 75\n",
      "75 falls between 51 and 100\n"
     ]
    }
   ],
   "source": [
    "num = int(input(\"Enter a number: \"))\n",
    "if num >= 0 and num <= 50:\n",
    "    print(num, \"falls between 0 and 50\")\n",
    "elif num >= 51 and num <= 100:\n",
    "    print(num, \"falls between 51 and 100\")\n",
    "elif num >= 101 and num <= 150:\n",
    "    print(num, \"falls between 101 and 150\")\n",
    "else:\n",
    "    print(num, \"is greater than 150\")"
   ]
  },
  {
   "cell_type": "code",
   "execution_count": 25,
   "id": "20888c5e",
   "metadata": {},
   "outputs": [
    {
     "name": "stdout",
     "output_type": "stream",
     "text": [
      "Enter a number: 32\n",
      "Sum of first 32 natural numbers is 528\n"
     ]
    }
   ],
   "source": [
    "n = int(input(\"Enter a number: \"))\n",
    "sum = 0\n",
    "for i in range(1, n+1):\n",
    "    sum += i\n",
    "print(\"Sum of first\", n, \"natural numbers is\", sum)"
   ]
  },
  {
   "cell_type": "code",
   "execution_count": 26,
   "id": "9a3781a0",
   "metadata": {},
   "outputs": [
    {
     "name": "stdout",
     "output_type": "stream",
     "text": [
      "Enter a number: 20\n",
      "Factorial is 2432902008176640000\n"
     ]
    }
   ],
   "source": [
    "n = int(input(\"Enter a number: \"))\n",
    "fact = 1\n",
    "while n > 0:\n",
    "    fact *= n\n",
    "    n -= 1\n",
    "print(\"Factorial is\", fact)"
   ]
  },
  {
   "cell_type": "code",
   "execution_count": 27,
   "id": "55973d90",
   "metadata": {},
   "outputs": [
    {
     "name": "stdout",
     "output_type": "stream",
     "text": [
      "5 x 1 = 5\n",
      "5 x 2 = 10\n",
      "5 x 3 = 15\n",
      "5 x 4 = 20\n",
      "5 x 5 = 25\n",
      "5 x 6 = 30\n",
      "5 x 7 = 35\n",
      "5 x 8 = 40\n",
      "5 x 9 = 45\n",
      "5 x 10 = 50\n"
     ]
    }
   ],
   "source": [
    "def print_multiplication_table(number):\n",
    "    for i in range(1, 11):\n",
    "        print(f\"{number} x {i} = {number*i}\")\n",
    "\n",
    "print_multiplication_table(5)"
   ]
  },
  {
   "cell_type": "code",
   "execution_count": 28,
   "id": "412bac38",
   "metadata": {},
   "outputs": [
    {
     "name": "stdout",
     "output_type": "stream",
     "text": [
      "The number of digits in 12345 is: 5\n"
     ]
    }
   ],
   "source": [
    "def count_digits(number):\n",
    "    count = 0\n",
    "    while number > 0:\n",
    "        number //= 10\n",
    "        count += 1\n",
    "    return count\n",
    "\n",
    "number = 12345\n",
    "digit_count = count_digits(number)\n",
    "print(f\"The number of digits in {number} is: {digit_count}\")"
   ]
  },
  {
   "cell_type": "code",
   "execution_count": 29,
   "id": "ac38c4ae",
   "metadata": {},
   "outputs": [
    {
     "name": "stdout",
     "output_type": "stream",
     "text": [
      "Fibonacci sequence up to 50 : [0, 1, 1, 2, 3, 5, 8, 13, 21, 34]\n"
     ]
    }
   ],
   "source": [
    "def generate_fibonacci_sequence(limit):\n",
    "    fib_sequence = [0, 1]\n",
    "    while fib_sequence[-1] + fib_sequence[-2] <= limit:\n",
    "        fib_sequence.append(fib_sequence[-1] + fib_sequence[-2])\n",
    "    return fib_sequence\n",
    "\n",
    "limit = 50\n",
    "fibonacci_sequence = generate_fibonacci_sequence(limit)\n",
    "print(\"Fibonacci sequence up to\", limit, \":\", fibonacci_sequence)"
   ]
  },
  {
   "cell_type": "code",
   "execution_count": 31,
   "id": "fa6e7fa6",
   "metadata": {},
   "outputs": [
    {
     "name": "stdout",
     "output_type": "stream",
     "text": [
      "Enter a number (N): 1010\n",
      "The sum of even numbers up to 1010 is: 255530\n"
     ]
    }
   ],
   "source": [
    "def sum_of_even_numbers(N):\n",
    "    sum_even = 0\n",
    "    i = 2\n",
    "    while i <= N:\n",
    "        sum_even += i\n",
    "        i += 2\n",
    "    return sum_even\n",
    "\n",
    "N = int(input(\"Enter a number (N): \"))\n",
    "result = sum_of_even_numbers(N)\n",
    "print(f\"The sum of even numbers up to {N} is: {result}\")"
   ]
  },
  {
   "cell_type": "code",
   "execution_count": 32,
   "id": "65f7cd1d",
   "metadata": {},
   "outputs": [
    {
     "name": "stdout",
     "output_type": "stream",
     "text": [
      "*\n",
      "**\n",
      "***\n",
      "****\n",
      "*****\n",
      "*****\n",
      "****\n",
      "***\n",
      "**\n",
      "*\n",
      "    *\n",
      "   ***\n",
      "  *****\n",
      " *******\n",
      "*********\n",
      " *******\n",
      "  *****\n",
      "   ***\n",
      "    *\n"
     ]
    }
   ],
   "source": [
    "for i in range(1, 6):\n",
    "    for j in range(i):\n",
    "        print(\"*\", end=\"\")\n",
    "    print()\n",
    "\n",
    "for i in range(5, 0, -1):\n",
    "    for j in range(i):\n",
    "        print(\"*\", end=\"\")\n",
    "    print()\n",
    "\n",
    "for i in range(1, 6):\n",
    "    for j in range(5-i):\n",
    "        print(\" \", end=\"\")\n",
    "    for j in range(i*2-1):\n",
    "        print(\"*\", end=\"\")\n",
    "    print()\n",
    "for i in range(4, 0, -1):\n",
    "    for j in range(5-i):\n",
    "        print(\" \", end=\"\")\n",
    "    for j in range(i*2-1):\n",
    "        print(\"*\", end=\"\")\n",
    "    print()"
   ]
  },
  {
   "cell_type": "code",
   "execution_count": 34,
   "id": "d88faa40",
   "metadata": {},
   "outputs": [
    {
     "name": "stdout",
     "output_type": "stream",
     "text": [
      "Enter a number: 5\n",
      "5 is a prime number\n"
     ]
    }
   ],
   "source": [
    "num = int(input(\"Enter a number: \"))\n",
    "if num > 1:\n",
    "    i = 2\n",
    "    while i <= num//2:\n",
    "        if num % i == 0:\n",
    "            print(num, \"is not a prime number\")\n",
    "            break\n",
    "        i += 1\n",
    "    else:\n",
    "        print(num, \"is a prime number\")\n",
    "else:\n",
    "    print(num, \"is not a prime number\")"
   ]
  },
  {
   "cell_type": "code",
   "execution_count": 35,
   "id": "3a915694",
   "metadata": {},
   "outputs": [
    {
     "name": "stdout",
     "output_type": "stream",
     "text": [
      "Sum: 15\n",
      "Average: 3.0\n",
      "Maximum: 5\n",
      "Minimum: 1\n"
     ]
    }
   ],
   "source": [
    "int_list = [1, 2, 3, 4, 5]\n",
    "sum = 0\n",
    "max = int_list[0]\n",
    "min = int_list[0]\n",
    "for i in int_list:\n",
    "    sum += i\n",
    "    if i > max:\n",
    "        max = i\n",
    "    if i < min:\n",
    "        min = i\n",
    "avg = sum/len(int_list)\n",
    "print(\"Sum:\", sum)\n",
    "print(\"Average:\", avg)\n",
    "print(\"Maximum:\", max)\n",
    "print(\"Minimum:\", min)"
   ]
  },
  {
   "cell_type": "code",
   "execution_count": 36,
   "id": "e2470a86",
   "metadata": {},
   "outputs": [
    {
     "name": "stdout",
     "output_type": "stream",
     "text": [
      "!dlroW ,olleH\n"
     ]
    }
   ],
   "source": [
    "string = \"Hello, World!\"\n",
    "reverse_string = \"\"\n",
    "i = len(string) - 1\n",
    "while i >= 0:\n",
    "    reverse_string += string[i]\n",
    "    i -= 1\n",
    "print(reverse_string)"
   ]
  },
  {
   "cell_type": "code",
   "execution_count": 37,
   "id": "1fd5a6ec",
   "metadata": {},
   "outputs": [
    {
     "name": "stdout",
     "output_type": "stream",
     "text": [
      "1\t2\t3\t4\t5\t6\t7\t8\t9\t10\t\n",
      "2\t4\t6\t8\t10\t12\t14\t16\t18\t20\t\n",
      "3\t6\t9\t12\t15\t18\t21\t24\t27\t30\t\n",
      "4\t8\t12\t16\t20\t24\t28\t32\t36\t40\t\n",
      "5\t10\t15\t20\t25\t30\t35\t40\t45\t50\t\n",
      "6\t12\t18\t24\t30\t36\t42\t48\t54\t60\t\n",
      "7\t14\t21\t28\t35\t42\t49\t56\t63\t70\t\n",
      "8\t16\t24\t32\t40\t48\t56\t64\t72\t80\t\n",
      "9\t18\t27\t36\t45\t54\t63\t72\t81\t90\t\n",
      "10\t20\t30\t40\t50\t60\t70\t80\t90\t100\t\n"
     ]
    }
   ],
   "source": [
    "for i in range(1, 11):\n",
    "    for j in range(1, 11):\n",
    "        print(i*j, end=\"\\t\")\n",
    "    print()"
   ]
  },
  {
   "cell_type": "code",
   "execution_count": 38,
   "id": "e6ae58bf",
   "metadata": {},
   "outputs": [
    {
     "name": "stdout",
     "output_type": "stream",
     "text": [
      "*\n",
      "**\n",
      "***\n",
      "****\n",
      "*****\n"
     ]
    }
   ],
   "source": [
    "for i in range(1, 6):\n",
    "    for j in range(i):\n",
    "        print(\"*\", end=\"\")\n",
    "    print()"
   ]
  },
  {
   "cell_type": "code",
   "execution_count": 39,
   "id": "3b83f273",
   "metadata": {},
   "outputs": [
    {
     "name": "stdout",
     "output_type": "stream",
     "text": [
      "[30, 24, 18]\n",
      "[84, 69, 54]\n",
      "[138, 114, 90]\n"
     ]
    }
   ],
   "source": [
    "matrix1 = [[1, 2, 3], [4, 5, 6], [7, 8, 9]]\n",
    "matrix2 = [[9, 8, 7], [6, 5, 4], [3, 2, 1]]\n",
    "result = [[0, 0, 0], [0, 0, 0], [0, 0, 0]]\n",
    "for i in range(len(matrix1)):\n",
    "    for j in range(len(matrix2[0])):\n",
    "        for k in range(len(matrix2)):\n",
    "            result[i][j] += matrix1[i][k] * matrix2[k][j]\n",
    "for row in result:\n",
    "    print(row)"
   ]
  },
  {
   "cell_type": "code",
   "execution_count": 40,
   "id": "124dbe1e",
   "metadata": {},
   "outputs": [
    {
     "name": "stdout",
     "output_type": "stream",
     "text": [
      "XOXOXOXO\n",
      "OXOXOXOX\n",
      "XOXOXOXO\n",
      "OXOXOXOX\n",
      "XOXOXOXO\n",
      "OXOXOXOX\n",
      "XOXOXOXO\n",
      "OXOXOXOX\n"
     ]
    }
   ],
   "source": [
    "for i in range(8):\n",
    "    for j in range(8):\n",
    "        if (i+j) % 2 == 0:\n",
    "            print(\"X\", end=\"\")\n",
    "        else:\n",
    "            print(\"O\", end=\"\")\n",
    "    print()"
   ]
  },
  {
   "cell_type": "code",
   "execution_count": 52,
   "id": "774864b9",
   "metadata": {},
   "outputs": [
    {
     "name": "stdout",
     "output_type": "stream",
     "text": [
      "Sum: 15\n"
     ]
    }
   ],
   "source": [
    "int_list = [1, 2, 3, 4, 5]\n",
    "sum = 0\n",
    "for i in int_list:\n",
    "    sum += i\n",
    "print(\"Sum:\", sum)"
   ]
  },
  {
   "cell_type": "code",
   "execution_count": 54,
   "id": "38ebf0c8",
   "metadata": {},
   "outputs": [
    {
     "name": "stdout",
     "output_type": "stream",
     "text": [
      "Sorted list: [10, 20, 30, 40, 50]\n"
     ]
    }
   ],
   "source": [
    "def sort_list(lst):\n",
    "    return sorted(lst)\n",
    "\n",
    "numbers = [30, 10, 20, 50, 40]\n",
    "sorted_numbers = sort_list(numbers)\n",
    "print(\"Sorted list:\", sorted_numbers)"
   ]
  },
  {
   "cell_type": "code",
   "execution_count": 55,
   "id": "54f97fe3",
   "metadata": {},
   "outputs": [
    {
     "name": "stdout",
     "output_type": "stream",
     "text": [
      "List with only even numbers: [2, 4, 6, 8, 10]\n"
     ]
    }
   ],
   "source": [
    "def filter_even_numbers(lst):\n",
    "    return [num for num in lst if num % 2 == 0]\n",
    "\n",
    "numbers = [1, 2, 3, 4, 5, 6, 7, 8, 9, 10]\n",
    "even_numbers = filter_even_numbers(numbers)\n",
    "print(\"List with only even numbers:\", even_numbers)"
   ]
  },
  {
   "cell_type": "code",
   "execution_count": 56,
   "id": "fdaf9687",
   "metadata": {},
   "outputs": [
    {
     "name": "stdout",
     "output_type": "stream",
     "text": [
      "Reversed list: [50, 40, 30, 20, 10]\n"
     ]
    }
   ],
   "source": [
    "def reverse_list(lst):\n",
    "    return lst[::-1]\n",
    "\n",
    "numbers = [10, 20, 30, 40, 50]\n",
    "reversed_numbers = reverse_list(numbers)\n",
    "print(\"Reversed list:\", reversed_numbers)"
   ]
  },
  {
   "cell_type": "code",
   "execution_count": 57,
   "id": "ec95232d",
   "metadata": {},
   "outputs": [
    {
     "name": "stdout",
     "output_type": "stream",
     "text": [
      "Common elements in both lists: [3, 4, 5]\n"
     ]
    }
   ],
   "source": [
    "def common_elements(list1, list2):\n",
    "    return list(set(list1) & set(list2))\n",
    "\n",
    "list1 = [1, 2, 3, 4, 5]\n",
    "list2 = [3, 4, 5, 6, 7]\n",
    "common_elements_list = common_elements(list1, list2)\n",
    "print(\"Common elements in both lists:\", common_elements_list)"
   ]
  },
  {
   "cell_type": "code",
   "execution_count": 58,
   "id": "1fd4ea61",
   "metadata": {},
   "outputs": [
    {
     "name": "stdout",
     "output_type": "stream",
     "text": [
      "Count of 3 in the list is 2\n"
     ]
    }
   ],
   "source": [
    "int_list = [1, 2, 3, 4, 5, 1, 2, 3, 4, 5]\n",
    "count = 0\n",
    "for i in int_list:\n",
    "    if i == 3:\n",
    "        count += 1\n",
    "print(\"Count of 3 in the list is\", count)"
   ]
  },
  {
   "cell_type": "code",
   "execution_count": 59,
   "id": "c326776f",
   "metadata": {},
   "outputs": [
    {
     "name": "stdout",
     "output_type": "stream",
     "text": [
      "[1, 2, 3, 4, 5]\n"
     ]
    }
   ],
   "source": [
    "int_list = [1, 2, 3, 4, 5, 1, 2, 3, 4, 5]\n",
    "new_list = []\n",
    "for i in int_list:\n",
    "    if i not in new_list:\n",
    "        new_list.append(i)\n",
    "print(new_list)"
   ]
  },
  {
   "cell_type": "code",
   "execution_count": 60,
   "id": "5cdcc845",
   "metadata": {},
   "outputs": [
    {
     "name": "stdout",
     "output_type": "stream",
     "text": [
      "[1, 4, 9, 16, 25]\n"
     ]
    }
   ],
   "source": [
    "int_list = [1, 2, 3, 4, 5]\n",
    "squares_list = [i**2 for i in int_list]\n",
    "print(squares_list)"
   ]
  },
  {
   "cell_type": "code",
   "execution_count": 61,
   "id": "3f9989ef",
   "metadata": {},
   "outputs": [
    {
     "name": "stdout",
     "output_type": "stream",
     "text": [
      "[10, 10, 10]\n",
      "[10, 10, 10]\n",
      "[10, 10, 10]\n"
     ]
    }
   ],
   "source": [
    "matrix1 = [[1, 2, 3], [4, 5, 6], [7, 8, 9]]\n",
    "matrix2 = [[9, 8, 7], [6, 5, 4], [3, 2, 1]]\n",
    "result = [[0, 0, 0], [0, 0, 0], [0, 0, 0]]\n",
    "for i in range(len(matrix1)):\n",
    "    for j in range(len(matrix2[0])):\n",
    "        result[i][j] = matrix1[i][j] + matrix2[i][j]\n",
    "for row in result:\n",
    "    print(row)"
   ]
  },
  {
   "cell_type": "code",
   "execution_count": 62,
   "id": "e6eb9210",
   "metadata": {},
   "outputs": [
    {
     "name": "stdout",
     "output_type": "stream",
     "text": [
      "[1, 2, 3, 4, 5, 6, 7, 8, 9]\n"
     ]
    }
   ],
   "source": [
    "nested_list = [[1, 2, 3], [4, 5, 6], [7, 8, 9]]\n",
    "flat_list = []\n",
    "for sublist in nested_list:\n",
    "    for item in sublist:\n",
    "        flat_list.append(item)\n",
    "print(flat_list)"
   ]
  },
  {
   "cell_type": "code",
   "execution_count": 63,
   "id": "57ffdac1",
   "metadata": {},
   "outputs": [
    {
     "name": "stdout",
     "output_type": "stream",
     "text": [
      "{1: 1, 2: 1, 3: 1, 4: 1, 5: 1, 6: 1, 7: 1, 8: 1, 9: 1}\n"
     ]
    }
   ],
   "source": [
    "nested_list = [[1, 2, 3], [4, 5, 6], [7, 8, 9]]\n",
    "freq_dict = {}\n",
    "for sublist in nested_list:\n",
    "    for item in sublist:\n",
    "        if item in freq_dict:\n",
    "            freq_dict[item] += 1\n",
    "        else:\n",
    "            freq_dict[item] = 1\n",
    "print(freq_dict)"
   ]
  },
  {
   "cell_type": "code",
   "execution_count": 64,
   "id": "ed35dd2d",
   "metadata": {},
   "outputs": [
    {
     "name": "stdout",
     "output_type": "stream",
     "text": [
      "[1, 4, 7]\n",
      "[2, 5, 8]\n",
      "[3, 6, 9]\n"
     ]
    }
   ],
   "source": [
    "matrix = [[1, 2, 3], [4, 5, 6], [7, 8, 9]]\n",
    "transpose = [[0, 0, 0], [0, 0, 0], [0, 0, 0]]\n",
    "for i in range(len(matrix)):\n",
    "    for j in range(len(matrix[0])):\n",
    "        transpose[j][i] = matrix[i][j]\n",
    "for row in transpose:\n",
    "    print(row)"
   ]
  },
  {
   "cell_type": "code",
   "execution_count": 65,
   "id": "7c610bca",
   "metadata": {},
   "outputs": [
    {
     "name": "stdout",
     "output_type": "stream",
     "text": [
      "[1, 2, 3, 4, 5, 6, 7, 8, 9]\n"
     ]
    }
   ],
   "source": [
    "nested_list = [[1, 2, 3], [4, 5, 6], [7, 8, 9]]\n",
    "flat_list = []\n",
    "for sublist in nested_list:\n",
    "    flat_list += sublist\n",
    "print(flat_list)"
   ]
  },
  {
   "cell_type": "code",
   "execution_count": 66,
   "id": "c0d8d998",
   "metadata": {},
   "outputs": [
    {
     "name": "stdout",
     "output_type": "stream",
     "text": [
      "(1, 2, 3, 4, 5, 6)\n"
     ]
    }
   ],
   "source": [
    "tuple1 = (1, 2, 3)\n",
    "tuple2 = (4, 5, 6)\n",
    "tuple3 = tuple1 + tuple2\n",
    "print(tuple3)"
   ]
  },
  {
   "cell_type": "code",
   "execution_count": 67,
   "id": "60368e10",
   "metadata": {},
   "outputs": [
    {
     "name": "stdout",
     "output_type": "stream",
     "text": [
      "1\n",
      "2\n",
      "3\n"
     ]
    }
   ],
   "source": [
    "tuple1 = (1, 2, 3)\n",
    "x, y, z = tuple1\n",
    "print(x)\n",
    "print(y)\n",
    "print(z)"
   ]
  },
  {
   "cell_type": "code",
   "execution_count": 68,
   "id": "bbd932ea",
   "metadata": {},
   "outputs": [
    {
     "name": "stdout",
     "output_type": "stream",
     "text": [
      "(1, 2, 3, 4, 5)\n"
     ]
    }
   ],
   "source": [
    "tuple1 = (3, 2, 1, 4, 5)\n",
    "sorted_tuple = tuple(sorted(tuple1))\n",
    "print(sorted_tuple)"
   ]
  },
  {
   "cell_type": "code",
   "execution_count": 69,
   "id": "9b4554db",
   "metadata": {},
   "outputs": [
    {
     "name": "stdout",
     "output_type": "stream",
     "text": [
      "Count of 3 in the tuple is 2\n"
     ]
    }
   ],
   "source": [
    "tuple1 = (1, 2, 3, 4, 5, 1, 2, 3, 4, 5)\n",
    "count = tuple1.count(3)\n",
    "print(\"Count of 3 in the tuple is\", count)"
   ]
  },
  {
   "cell_type": "code",
   "execution_count": 70,
   "id": "3820bdc4",
   "metadata": {},
   "outputs": [
    {
     "name": "stdout",
     "output_type": "stream",
     "text": [
      "[1, 2, 3, 4, 5]\n"
     ]
    }
   ],
   "source": [
    "tuple1 = (1, 2, 3, 4, 5)\n",
    "list1 = list(tuple1)\n",
    "print(list1)"
   ]
  },
  {
   "cell_type": "code",
   "execution_count": 71,
   "id": "8f951771",
   "metadata": {},
   "outputs": [
    {
     "name": "stdout",
     "output_type": "stream",
     "text": [
      "(5, 4, 3, 2, 1)\n"
     ]
    }
   ],
   "source": [
    "tuple1 = (1, 2, 3, 4, 5)\n",
    "reverse_tuple = tuple1[::-1]\n",
    "print(reverse_tuple)"
   ]
  },
  {
   "cell_type": "code",
   "execution_count": 72,
   "id": "675be406",
   "metadata": {},
   "outputs": [
    {
     "name": "stdout",
     "output_type": "stream",
     "text": [
      "(2, 3, 4)\n"
     ]
    }
   ],
   "source": [
    "tuple1 = (1, 2, 3, 4, 5)\n",
    "slice_tuple = tuple1[1:4]\n",
    "print(slice_tuple)"
   ]
  },
  {
   "cell_type": "code",
   "execution_count": 74,
   "id": "8757deb6",
   "metadata": {},
   "outputs": [
    {
     "ename": "TypeError",
     "evalue": "'int' object is not callable",
     "output_type": "error",
     "traceback": [
      "\u001b[1;31m---------------------------------------------------------------------------\u001b[0m",
      "\u001b[1;31mTypeError\u001b[0m                                 Traceback (most recent call last)",
      "Cell \u001b[1;32mIn[74], line 4\u001b[0m\n\u001b[0;32m      1\u001b[0m tuple1 \u001b[38;5;241m=\u001b[39m (\u001b[38;5;241m1\u001b[39m, \u001b[38;5;241m2\u001b[39m, \u001b[38;5;241m3\u001b[39m)\n\u001b[0;32m      2\u001b[0m tuple2 \u001b[38;5;241m=\u001b[39m (\u001b[38;5;241m4\u001b[39m, \u001b[38;5;241m5\u001b[39m, \u001b[38;5;241m6\u001b[39m)\n\u001b[1;32m----> 4\u001b[0m add_tuple \u001b[38;5;241m=\u001b[39m \u001b[38;5;28mtuple\u001b[39m(\u001b[38;5;28mmap\u001b[39m(\u001b[38;5;28msum\u001b[39m, \u001b[38;5;28mzip\u001b[39m(tuple1, tuple2)))\n\u001b[0;32m      5\u001b[0m sub_tuple \u001b[38;5;241m=\u001b[39m \u001b[38;5;28mtuple\u001b[39m(\u001b[38;5;28mmap\u001b[39m(\u001b[38;5;28;01mlambda\u001b[39;00m x, y: x \u001b[38;5;241m-\u001b[39m y, tuple1, tuple2))\n\u001b[0;32m      6\u001b[0m mul_tuple \u001b[38;5;241m=\u001b[39m \u001b[38;5;28mtuple\u001b[39m(\u001b[38;5;28mmap\u001b[39m(\u001b[38;5;28;01mlambda\u001b[39;00m x, y: x \u001b[38;5;241m*\u001b[39m y, tuple1, tuple2))\n",
      "\u001b[1;31mTypeError\u001b[0m: 'int' object is not callable"
     ]
    }
   ],
   "source": [
    "tuple1 = (1, 2, 3)\n",
    "tuple2 = (4, 5, 6)\n",
    "\n",
    "add_tuple = tuple(map(sum, zip(tuple1, tuple2)))\n",
    "sub_tuple = tuple(map(lambda x, y: x - y, tuple1, tuple2))\n",
    "mul_tuple = tuple(map(lambda x, y: x * y, tuple1, tuple2))\n",
    "\n",
    "print(\"Element-wise addition:\", add_tuple)\n",
    "print(\"Element-wise subtraction:\", sub_tuple)\n",
    "print(\"Element-wise multiplication:\", mul_tuple)"
   ]
  },
  {
   "cell_type": "code",
   "execution_count": 75,
   "id": "0aff0c32",
   "metadata": {},
   "outputs": [
    {
     "ename": "TypeError",
     "evalue": "'int' object is not callable",
     "output_type": "error",
     "traceback": [
      "\u001b[1;31m---------------------------------------------------------------------------\u001b[0m",
      "\u001b[1;31mTypeError\u001b[0m                                 Traceback (most recent call last)",
      "Cell \u001b[1;32mIn[75], line 7\u001b[0m\n\u001b[0;32m      4\u001b[0m \u001b[38;5;66;03m# Rename 'sum' to avoid conflict with the built-in function\u001b[39;00m\n\u001b[0;32m      5\u001b[0m my_sum \u001b[38;5;241m=\u001b[39m \u001b[38;5;28msum\u001b[39m\n\u001b[1;32m----> 7\u001b[0m add_tuple \u001b[38;5;241m=\u001b[39m \u001b[38;5;28mtuple\u001b[39m(\u001b[38;5;28mmap\u001b[39m(my_sum, \u001b[38;5;28mzip\u001b[39m(tuple1, tuple2)))\n\u001b[0;32m      8\u001b[0m sub_tuple \u001b[38;5;241m=\u001b[39m \u001b[38;5;28mtuple\u001b[39m(\u001b[38;5;28mmap\u001b[39m(\u001b[38;5;28;01mlambda\u001b[39;00m x, y: x \u001b[38;5;241m-\u001b[39m y, tuple1, tuple2))\n\u001b[0;32m      9\u001b[0m mul_tuple \u001b[38;5;241m=\u001b[39m \u001b[38;5;28mtuple\u001b[39m(\u001b[38;5;28mmap\u001b[39m(\u001b[38;5;28;01mlambda\u001b[39;00m x, y: x \u001b[38;5;241m*\u001b[39m y, tuple1, tuple2))\n",
      "\u001b[1;31mTypeError\u001b[0m: 'int' object is not callable"
     ]
    }
   ],
   "source": [
    "tuple1 = (1, 2, 3)\n",
    "tuple2 = (4, 5, 6)\n",
    "\n",
    "# Rename 'sum' to avoid conflict with the built-in function\n",
    "my_sum = sum\n",
    "\n",
    "add_tuple = tuple(map(my_sum, zip(tuple1, tuple2)))\n",
    "sub_tuple = tuple(map(lambda x, y: x - y, tuple1, tuple2))\n",
    "mul_tuple = tuple(map(lambda x, y: x * y, tuple1, tuple2))\n",
    "\n",
    "print(\"Element-wise addition:\", add_tuple)\n",
    "print(\"Element-wise subtraction:\", sub_tuple)\n",
    "print(\"Element-wise multiplication:\", mul_tuple)"
   ]
  },
  {
   "cell_type": "code",
   "execution_count": 1,
   "id": "0e255064",
   "metadata": {},
   "outputs": [
    {
     "name": "stdout",
     "output_type": "stream",
     "text": [
      "Element-wise addition: (5, 7, 9)\n",
      "Element-wise subtraction: (-3, -3, -3)\n",
      "Element-wise multiplication: (4, 10, 18)\n"
     ]
    }
   ],
   "source": [
    "tuple1 = (1, 2, 3)\n",
    "tuple2 = (4, 5, 6)\n",
    "\n",
    "my_sum_function = sum\n",
    "\n",
    "add_tuple = tuple(map(my_sum_function, zip(tuple1, tuple2)))\n",
    "sub_tuple = tuple(map(lambda x, y: x - y, tuple1, tuple2))\n",
    "mul_tuple = tuple(map(lambda x, y: x * y, tuple1, tuple2))\n",
    "\n",
    "print(\"Element-wise addition:\", add_tuple)\n",
    "print(\"Element-wise subtraction:\", sub_tuple)\n",
    "print(\"Element-wise multiplication:\", mul_tuple)"
   ]
  },
  {
   "cell_type": "code",
   "execution_count": 2,
   "id": "ef6d9687",
   "metadata": {},
   "outputs": [
    {
     "name": "stdout",
     "output_type": "stream",
     "text": [
      "3 exists in the tuple\n"
     ]
    }
   ],
   "source": [
    "tuple1 = (1, 2, 3, 4, 5)\n",
    "if 3 in tuple1:\n",
    "    print(\"3 exists in the tuple\")\n",
    "else:\n",
    "    print(\"3 does not exist in the tuple\")"
   ]
  },
  {
   "cell_type": "code",
   "execution_count": 3,
   "id": "3956b57e",
   "metadata": {},
   "outputs": [
    {
     "name": "stdout",
     "output_type": "stream",
     "text": [
      "(1, 2, 3)\n"
     ]
    }
   ],
   "source": [
    "x = 1\n",
    "y = 2\n",
    "z = 3\n",
    "tuple1 = (x, y, z)\n",
    "print(tuple1)"
   ]
  },
  {
   "cell_type": "code",
   "execution_count": 4,
   "id": "28f28470",
   "metadata": {},
   "outputs": [
    {
     "name": "stdout",
     "output_type": "stream",
     "text": [
      "6\n"
     ]
    }
   ],
   "source": [
    "nested_list = [[1, 2, 3], [4, 5, 6], [7, 8, 9]]\n",
    "print(nested_list[1][2])"
   ]
  },
  {
   "cell_type": "code",
   "execution_count": 5,
   "id": "1911759b",
   "metadata": {},
   "outputs": [
    {
     "name": "stdout",
     "output_type": "stream",
     "text": [
      "[1, 2, 3, 4, 5, 6, 7, 8, 9]\n"
     ]
    }
   ],
   "source": [
    "nested_list = [[1, 2, 3], [4, 5, 6], [7, 8, 9]]\n",
    "flat_list = []\n",
    "for sublist in nested_list:\n",
    "    for item in sublist:\n",
    "        flat_list.append(item)\n",
    "print(flat_list)"
   ]
  },
  {
   "cell_type": "code",
   "execution_count": 6,
   "id": "96bf31f4",
   "metadata": {},
   "outputs": [
    {
     "name": "stdout",
     "output_type": "stream",
     "text": [
      "[[10], [4, 5], [1, 2, 3], [6, 7, 8, 9]]\n"
     ]
    }
   ],
   "source": [
    "nested_list = [[1, 2, 3], [4, 5], [6, 7, 8, 9], [10]]\n",
    "sorted_list = sorted(nested_list, key=len)\n",
    "print(sorted_list)"
   ]
  },
  {
   "cell_type": "code",
   "execution_count": 7,
   "id": "c6b61699",
   "metadata": {},
   "outputs": [
    {
     "name": "stdout",
     "output_type": "stream",
     "text": [
      "[1, 3, 5]\n",
      "[2, 4, 6]\n"
     ]
    }
   ],
   "source": [
    "nested_list = [(1, 2), (3, 4), (5, 6)]\n",
    "x_list = [item[0] for item in nested_list]\n",
    "y_list = [item[1] for item in nested_list]\n",
    "print(x_list)\n",
    "print(y_list)"
   ]
  },
  {
   "cell_type": "code",
   "execution_count": 9,
   "id": "09da6934",
   "metadata": {},
   "outputs": [
    {
     "name": "stdout",
     "output_type": "stream",
     "text": [
      "[1, 4, 7]\n",
      "[2, 5, 8]\n",
      "[3, 6, 9]\n"
     ]
    }
   ],
   "source": [
    "matrix = [[1, 2, 3], [4, 5, 6], [7, 8, 9]]\n",
    "transpose = [[0, 0, 0], [0, 0, 0], [0, 0, 0]]\n",
    "for i in range(len(matrix)):\n",
    "    for j in range(len(matrix[0])):\n",
    "        transpose[j][i] = matrix[i][j]\n",
    "for row in transpose:\n",
    "    print(row)"
   ]
  },
  {
   "cell_type": "code",
   "execution_count": 10,
   "id": "6850a33f",
   "metadata": {},
   "outputs": [
    {
     "name": "stdout",
     "output_type": "stream",
     "text": [
      "[1, 2, 3, 4, 5, 6, 7, 8, 9]\n"
     ]
    }
   ],
   "source": [
    "nested_list = [[1, 2, 3], [4, 5, 6], [7, 8, 9]]\n",
    "flat_list = []\n",
    "for sublist in nested_list:\n",
    "    for item in sublist:\n",
    "        flat_list.append(item)\n",
    "print(flat_list)"
   ]
  },
  {
   "cell_type": "code",
   "execution_count": 11,
   "id": "df906c9d",
   "metadata": {},
   "outputs": [
    {
     "name": "stdout",
     "output_type": "stream",
     "text": [
      "4\n"
     ]
    }
   ],
   "source": [
    "nested_list = [[1, 2, 3], [4, 5, 6], [7, 8, 9]]\n",
    "count = 0\n",
    "for sublist in nested_list:\n",
    "    for item in sublist:\n",
    "        if item % 2 == 0:\n",
    "            count += 1\n",
    "print(count)"
   ]
  },
  {
   "cell_type": "code",
   "execution_count": 12,
   "id": "cfa361bf",
   "metadata": {},
   "outputs": [
    {
     "name": "stdout",
     "output_type": "stream",
     "text": [
      "9\n"
     ]
    }
   ],
   "source": [
    "nested_list = [[1, 2, 3], [4, 5, 6], [7, 8, 9]]\n",
    "max_element = float('-inf')\n",
    "for sublist in nested_list:\n",
    "    for item in sublist:\n",
    "        if item > max_element:\n",
    "            max_element = item\n",
    "print(max_element)"
   ]
  },
  {
   "cell_type": "code",
   "execution_count": 13,
   "id": "598e2105",
   "metadata": {},
   "outputs": [
    {
     "name": "stdout",
     "output_type": "stream",
     "text": [
      "15\n"
     ]
    }
   ],
   "source": [
    "matrix = [[1, 2, 3], [4, 5, 6], [7, 8, 9]]\n",
    "sum_diagonal = 0\n",
    "for i in range(len(matrix)):\n",
    "    sum_diagonal += matrix[i][i]\n",
    "print(sum_diagonal)"
   ]
  },
  {
   "cell_type": "code",
   "execution_count": 14,
   "id": "baa747d9",
   "metadata": {},
   "outputs": [
    {
     "name": "stdout",
     "output_type": "stream",
     "text": [
      "Element found at row 1 and column 1\n"
     ]
    }
   ],
   "source": [
    "nested_list = [[1, 2, 3], [4, 5, 6], [7, 8, 9]]\n",
    "element = 5\n",
    "for i in range(len(nested_list)):\n",
    "    for j in range(len(nested_list[0])):\n",
    "        if nested_list[i][j] == element:\n",
    "            print(\"Element found at row\", i, \"and column\", j)"
   ]
  },
  {
   "cell_type": "code",
   "execution_count": 15,
   "id": "5ef4cd25",
   "metadata": {},
   "outputs": [
    {
     "name": "stdout",
     "output_type": "stream",
     "text": [
      "{1, 2, 3, 4, 5}\n"
     ]
    }
   ],
   "source": [
    "list1 = [1, 2, 3, 4, 5, 1, 2, 3, 4, 5]\n",
    "unique_set = set(list1)\n",
    "print(unique_set)"
   ]
  },
  {
   "cell_type": "code",
   "execution_count": 16,
   "id": "deb9c032",
   "metadata": {},
   "outputs": [
    {
     "name": "stdout",
     "output_type": "stream",
     "text": [
      "{4, 5}\n"
     ]
    }
   ],
   "source": [
    "set1 = {1, 2, 3, 4, 5}\n",
    "set2 = {4, 5, 6, 7, 8}\n",
    "intersection = set1.intersection(set2)\n",
    "print(intersection)"
   ]
  },
  {
   "cell_type": "code",
   "execution_count": 17,
   "id": "26a399b6",
   "metadata": {},
   "outputs": [
    {
     "name": "stdout",
     "output_type": "stream",
     "text": [
      "{1, 2, 3, 4, 5, 6, 7, 8}\n"
     ]
    }
   ],
   "source": [
    "set1 = {1, 2, 3, 4, 5}\n",
    "set2 = {4, 5, 6, 7, 8}\n",
    "union = set1.union(set2)\n",
    "print(union)"
   ]
  },
  {
   "cell_type": "code",
   "execution_count": 18,
   "id": "64562c11",
   "metadata": {},
   "outputs": [
    {
     "name": "stdout",
     "output_type": "stream",
     "text": [
      "{1, 2, 3}\n"
     ]
    }
   ],
   "source": [
    "set1 = {1, 2, 3, 4, 5}\n",
    "set2 = {4, 5, 6, 7, 8}\n",
    "difference = set1.difference(set2)\n",
    "print(difference)"
   ]
  },
  {
   "cell_type": "code",
   "execution_count": 19,
   "id": "64b9c8e5",
   "metadata": {},
   "outputs": [
    {
     "name": "stdout",
     "output_type": "stream",
     "text": [
      "{1, 2, 3, 6, 7, 8}\n"
     ]
    }
   ],
   "source": [
    "set_a = {1, 2, 3, 4, 5}\n",
    "set_b = {4, 5, 6, 7, 8}\n",
    "symmetric_difference = set_a.symmetric_difference(set_b)\n",
    "print(symmetric_difference)"
   ]
  },
  {
   "cell_type": "code",
   "execution_count": 20,
   "id": "c5c20a86",
   "metadata": {},
   "outputs": [
    {
     "name": "stdout",
     "output_type": "stream",
     "text": [
      "{4, 5}\n",
      "{3, 4, 5, 6, 7, 8}\n",
      "{6, 7}\n"
     ]
    }
   ],
   "source": [
    "set_a = {1, 2, 3, 4, 5}\n",
    "set_b = {4, 5, 6, 7, 8}\n",
    "set_c = {3, 4, 5, 6, 7}\n",
    "intersection = set_a.intersection(set_b)\n",
    "union = set_b.union(set_c)\n",
    "difference = set_c.difference(set_a)\n",
    "print(intersection)\n",
    "print(union)\n",
    "print(difference)"
   ]
  },
  {
   "cell_type": "code",
   "execution_count": 21,
   "id": "e3c40b3c",
   "metadata": {},
   "outputs": [
    {
     "name": "stdout",
     "output_type": "stream",
     "text": [
      "Set A is a subset of set B\n"
     ]
    }
   ],
   "source": [
    "set_a = {1, 2, 3}\n",
    "set_b = {1, 2, 3, 4, 5}\n",
    "if set_a.issubset(set_b):\n",
    "    print(\"Set A is a subset of set B\")\n",
    "else:\n",
    "    print(\"Set A is not a subset of set B\")"
   ]
  },
  {
   "cell_type": "code",
   "execution_count": 22,
   "id": "ba69d74f",
   "metadata": {},
   "outputs": [
    {
     "name": "stdout",
     "output_type": "stream",
     "text": [
      "Set A is a superset of set B\n"
     ]
    }
   ],
   "source": [
    "set_a = {1, 2, 3, 4, 5}\n",
    "set_b = {1, 2, 3}\n",
    "if set_a.issuperset(set_b):\n",
    "    print(\"Set A is a superset of set B\")\n",
    "else:\n",
    "    print(\"Set A is not a superset of set B\")"
   ]
  },
  {
   "cell_type": "code",
   "execution_count": 23,
   "id": "dbe648f9",
   "metadata": {},
   "outputs": [
    {
     "name": "stdout",
     "output_type": "stream",
     "text": [
      "5\n"
     ]
    }
   ],
   "source": [
    "set1 = {1, 2, 3, 4, 5}\n",
    "print(len(set1))"
   ]
  },
  {
   "cell_type": "code",
   "execution_count": 24,
   "id": "c6a0b2da",
   "metadata": {},
   "outputs": [
    {
     "name": "stdout",
     "output_type": "stream",
     "text": [
      "Found\n"
     ]
    }
   ],
   "source": [
    "set1 = {1, 2, 3, 4, 5}\n",
    "element = 3\n",
    "if element in set1:\n",
    "    print(\"Found\")\n",
    "else:\n",
    "    print(\"Not Found\")"
   ]
  },
  {
   "cell_type": "code",
   "execution_count": 27,
   "id": "7f492d2a",
   "metadata": {},
   "outputs": [
    {
     "name": "stdout",
     "output_type": "stream",
     "text": [
      "{'Imran': 85, 'Nafiz': 90, 'Ujjal': 80, 'Jihad': 95, 'Shumon': 92}\n"
     ]
    }
   ],
   "source": [
    "students = {\"Imran\": 85, \"Nafiz\": 90, \"Ujjal\": 80}\n",
    "students[\"Jihad\"] = 95\n",
    "students[\"Shumon\"] = 92\n",
    "print(students)"
   ]
  },
  {
   "cell_type": "code",
   "execution_count": 28,
   "id": "1206a5e2",
   "metadata": {},
   "outputs": [
    {
     "name": "stdout",
     "output_type": "stream",
     "text": [
      "Imran\n",
      "85\n",
      "Jihad\n",
      "90\n",
      "Ujjal\n",
      "80\n"
     ]
    }
   ],
   "source": [
    "students = {\"Imran\": 85, \"Jihad\": 90, \"Ujjal\": 80}\n",
    "for key in students:\n",
    "    print(key)\n",
    "    print(students[key])"
   ]
  },
  {
   "cell_type": "code",
   "execution_count": 29,
   "id": "77c3edc1",
   "metadata": {},
   "outputs": [
    {
     "name": "stdout",
     "output_type": "stream",
     "text": [
      "3\n"
     ]
    }
   ],
   "source": [
    "students = {\"Imran\": 85, \"Nafiz\": 90, \"Shumon\": 80}\n",
    "print(len(students))"
   ]
  },
  {
   "cell_type": "code",
   "execution_count": 30,
   "id": "a1374cc8",
   "metadata": {},
   "outputs": [
    {
     "name": "stdout",
     "output_type": "stream",
     "text": [
      "banana\n"
     ]
    }
   ],
   "source": [
    "items = {\"apple\": 0.5, \"banana\": 0.25, \"orange\": 0.75}\n",
    "price = 0.25\n",
    "for key in items:\n",
    "    if items[key] == price:\n",
    "        print(key)"
   ]
  },
  {
   "cell_type": "code",
   "execution_count": 31,
   "id": "d553bf44",
   "metadata": {},
   "outputs": [
    {
     "name": "stdout",
     "output_type": "stream",
     "text": [
      "{'Imran': 85, 'Shahin': 90, 'Nafiz': 80, 'Shumon': 95}\n"
     ]
    }
   ],
   "source": [
    "dict1 = {\"Imran\": 85, \"Shahin\": 90}\n",
    "dict2 = {\"Nafiz\": 80, \"Shumon\": 95}\n",
    "merged_dict = {**dict1, **dict2}\n",
    "print(merged_dict)"
   ]
  },
  {
   "cell_type": "code",
   "execution_count": 12,
   "id": "aee0e29f",
   "metadata": {},
   "outputs": [
    {
     "name": "stdout",
     "output_type": "stream",
     "text": [
      "Enter the key to remove: apple\n",
      "{'banana': 3, 'orange': 2}\n"
     ]
    }
   ],
   "source": [
    "items = {\"apple\": 5, \"banana\": 3, \"orange\": 2}\n",
    "key = input(\"Enter the key to remove: \")\n",
    "if key in items:\n",
    "    del items[key]\n",
    "print(items)"
   ]
  },
  {
   "cell_type": "code",
   "execution_count": 2,
   "id": "c0395017",
   "metadata": {},
   "outputs": [
    {
     "name": "stdout",
     "output_type": "stream",
     "text": [
      "{'Nafiz': 18, 'Imran': 20, 'Sifat': 22}\n"
     ]
    }
   ],
   "source": [
    "students = {\"Imran\": 20, \"Nafiz\": 18, \"Sifat\": 22}\n",
    "sorted_students = dict(sorted(students.items(), key=lambda item: item[1]))\n",
    "print(sorted_students)"
   ]
  },
  {
   "cell_type": "code",
   "execution_count": 3,
   "id": "e16781be",
   "metadata": {},
   "outputs": [
    {
     "name": "stdout",
     "output_type": "stream",
     "text": [
      "{'h': 1, 'e': 1, 'l': 3, 'o': 2, ' ': 1, 'w': 1, 'r': 1, 'd': 1}\n"
     ]
    }
   ],
   "source": [
    "string = \"hello world\"\n",
    "freq_dict = {}\n",
    "for char in string:\n",
    "    if char in freq_dict:\n",
    "        freq_dict[char] += 1\n",
    "    else:\n",
    "        freq_dict[char] = 1\n",
    "print(freq_dict)"
   ]
  },
  {
   "cell_type": "code",
   "execution_count": 4,
   "id": "9d895e1c",
   "metadata": {},
   "outputs": [
    {
     "name": "stdout",
     "output_type": "stream",
     "text": [
      "{1: 1, 2: 4, 3: 9, 4: 16, 5: 25}\n"
     ]
    }
   ],
   "source": [
    "int_list = [1, 2, 3, 4, 5]\n",
    "squares_dict = {i: i**2 for i in int_list}\n",
    "print(squares_dict)"
   ]
  },
  {
   "cell_type": "code",
   "execution_count": 11,
   "id": "6ee2643e",
   "metadata": {},
   "outputs": [
    {
     "name": "stdout",
     "output_type": "stream",
     "text": [
      "Enter the key to check: apple\n",
      "Key Found\n"
     ]
    }
   ],
   "source": [
    "items = {\"apple\": 5, \"banana\": 3, \"orange\": 2}\n",
    "key = input(\"Enter the key to check: \")\n",
    "if key in items:\n",
    "    print(\"Key Found\")\n",
    "else:\n",
    "    print(\"Key Not Found\")"
   ]
  },
  {
   "cell_type": "code",
   "execution_count": 14,
   "id": "4e918b46",
   "metadata": {},
   "outputs": [
    {
     "name": "stdout",
     "output_type": "stream",
     "text": [
      "20\n",
      "456 R.K Mission Road\n"
     ]
    }
   ],
   "source": [
    "students = {\"Imran\": {\"age\": 20, \"address\": \"123 Main St\"}, \"Nafiz\": {\"age\": 18, \"address\": \"456 R.K Mission Road\"}}\n",
    "print(students[\"Imran\"][\"age\"])\n",
    "print(students[\"Nafiz\"][\"address\"])"
   ]
  },
  {
   "cell_type": "code",
   "execution_count": 15,
   "id": "0a20b69f",
   "metadata": {},
   "outputs": [
    {
     "name": "stdout",
     "output_type": "stream",
     "text": [
      "4\n"
     ]
    }
   ],
   "source": [
    "students = {\"Imran\": {\"age\": 20, \"address\": \"123 Main St\"}, \"Shahin\": {\"age\": 18, \"address\": \"256 R.K Mission Road\"}}\n",
    "count = 0\n",
    "for key in students:\n",
    "    count += len(students[key])\n",
    "print(count)"
   ]
  },
  {
   "cell_type": "code",
   "execution_count": 2,
   "id": "a786c74a",
   "metadata": {},
   "outputs": [
    {
     "name": "stdout",
     "output_type": "stream",
     "text": [
      "Enter the employee ID: 001\n",
      "Enter the new salary: 5000\n",
      "{'001': {'name': 'Imran', 'salary': 5000}, '002': {'name': 'Kuddus', 'salary': 6000}}\n"
     ]
    }
   ],
   "source": [
    "employees = {\"001\": {\"name\": \"Imran\", \"salary\": 5000}, \"002\": {\"name\": \"Kuddus\", \"salary\": 6000}}\n",
    "id = input(\"Enter the employee ID: \")\n",
    "if id in employees:\n",
    "    salary = int(input(\"Enter the new salary: \"))\n",
    "    employees[id][\"salary\"] = salary\n",
    "print(employees)"
   ]
  },
  {
   "cell_type": "code",
   "execution_count": 3,
   "id": "1154f4a7",
   "metadata": {},
   "outputs": [
    {
     "name": "stdout",
     "output_type": "stream",
     "text": [
      "{'banana': {'price': 0.25, 'quantity': 20}, 'apple': {'price': 0.5, 'quantity': 10}, 'orange': {'price': 0.75, 'quantity': 5}}\n"
     ]
    }
   ],
   "source": [
    "products = {\"apple\": {\"price\": 0.5, \"quantity\": 10}, \"banana\": {\"price\": 0.25, \"quantity\": 20}, \"orange\": {\"price\": 0.75, \"quantity\": 5}}\n",
    "sorted_products = {k: v for k, v in sorted(products.items(), key=lambda item: item[1][\"price\"])}\n",
    "print(sorted_products)"
   ]
  },
  {
   "cell_type": "code",
   "execution_count": 2,
   "id": "e516dca7",
   "metadata": {},
   "outputs": [
    {
     "name": "stdout",
     "output_type": "stream",
     "text": [
      "Enter a number: 7\n",
      "7 is a prime number\n"
     ]
    }
   ],
   "source": [
    "num = int(input(\"Enter a number: \"))\n",
    "if num > 1:\n",
    "    for i in range(2, num):\n",
    "        if num % i == 0:\n",
    "            print(num, \"is not a prime number\")\n",
    "            break\n",
    "    else:\n",
    "        print(num, \"is a prime number\")\n",
    "else:\n",
    "    print(num, \"is not a prime number\")"
   ]
  },
  {
   "cell_type": "code",
   "execution_count": 3,
   "id": "b34aa3d6",
   "metadata": {},
   "outputs": [
    {
     "name": "stdout",
     "output_type": "stream",
     "text": [
      "2\n",
      "4\n",
      "6\n",
      "8\n",
      "10\n",
      "12\n",
      "14\n",
      "16\n",
      "18\n",
      "20\n"
     ]
    }
   ],
   "source": [
    "for i in range(1, 21):\n",
    "    if i % 2 != 0:\n",
    "        continue\n",
    "    print(i)"
   ]
  },
  {
   "cell_type": "code",
   "execution_count": 4,
   "id": "5db29878",
   "metadata": {},
   "outputs": [
    {
     "name": "stdout",
     "output_type": "stream",
     "text": [
      "Enter a password: Codebreak13\n",
      "Password accepted\n"
     ]
    }
   ],
   "source": [
    "while True:\n",
    "    password = input(\"Enter a password: \")\n",
    "    if len(password) < 8:\n",
    "        print(\"Password must be at least 8 characters long\")\n",
    "        continue\n",
    "    if not any(char.isupper() for char in password):\n",
    "        print(\"Password must contain at least one uppercase letter\")\n",
    "        continue\n",
    "    if not any(char.islower() for char in password):\n",
    "        print(\"Password must contain at least one lowercase letter\")\n",
    "        continue\n",
    "    if not any(char.isdigit() for char in password):\n",
    "        print(\"Password must contain at least one digit\")\n",
    "        continue\n",
    "    print(\"Password accepted\")\n",
    "    break"
   ]
  },
  {
   "cell_type": "code",
   "execution_count": 5,
   "id": "7a4ee647",
   "metadata": {},
   "outputs": [
    {
     "name": "stdout",
     "output_type": "stream",
     "text": [
      "3\n",
      "5\n",
      "6\n",
      "9\n",
      "10\n",
      "12\n",
      "15\n",
      "18\n",
      "20\n",
      "21\n",
      "24\n",
      "25\n",
      "27\n",
      "30\n",
      "33\n",
      "35\n",
      "36\n",
      "39\n",
      "40\n",
      "42\n",
      "45\n",
      "48\n",
      "50\n"
     ]
    }
   ],
   "source": [
    "for i in range(1, 51):\n",
    "    if i % 3 != 0 and i % 5 != 0:\n",
    "        continue\n",
    "    print(i)"
   ]
  },
  {
   "cell_type": "code",
   "execution_count": 1,
   "id": "75ab7589",
   "metadata": {},
   "outputs": [
    {
     "name": "stdout",
     "output_type": "stream",
     "text": [
      "Enter a word: Write\n",
      "Word is not a palindrome\n"
     ]
    }
   ],
   "source": [
    "word = input(\"Enter a word: \")\n",
    "if len(word) < 3:\n",
    "    print(\"Word is too short\")\n",
    "    exit()\n",
    "if word == word[::-1]:\n",
    "    print(\"Word is a palindrome\")\n",
    "else:\n",
    "    print(\"Word is not a palindrome\")"
   ]
  },
  {
   "cell_type": "code",
   "execution_count": 2,
   "id": "a4e15bff",
   "metadata": {},
   "outputs": [
    {
     "name": "stdout",
     "output_type": "stream",
     "text": [
      "7\n"
     ]
    }
   ],
   "source": [
    "int_list = [2, 4, 6, 7, 8, 10]\n",
    "for i in int_list:\n",
    "    if i % 2 != 0:\n",
    "        print(i)\n",
    "        break"
   ]
  },
  {
   "cell_type": "code",
   "execution_count": 1,
   "id": "12dcaddc",
   "metadata": {},
   "outputs": [
    {
     "name": "stdout",
     "output_type": "stream",
     "text": [
      "Guess a number between 1 and 100: 55\n",
      "Too low, try again\n",
      "Guess a number between 1 and 100: 48\n",
      "Too low, try again\n",
      "Guess a number between 1 and 100: 75\n",
      "Too high, try again\n",
      "Guess a number between 1 and 100: 65\n",
      "Correct!\n"
     ]
    }
   ],
   "source": [
    "import random\n",
    "number = random.randint(1, 100)\n",
    "while True:\n",
    "    guess = int(input(\"Guess a number between 1 and 100: \"))\n",
    "    if guess == number:\n",
    "        print(\"Correct!\")\n",
    "        break\n",
    "    elif guess < number:\n",
    "        print(\"Too low, try again\")\n",
    "        continue\n",
    "    else:\n",
    "        print(\"Too high, try again\")\n",
    "        continue"
   ]
  },
  {
   "cell_type": "code",
   "execution_count": 2,
   "id": "4de7cd72",
   "metadata": {},
   "outputs": [
    {
     "name": "stdout",
     "output_type": "stream",
     "text": [
      "Enter a string: Linked List\n",
      "Number of vowels: 3\n"
     ]
    }
   ],
   "source": [
    "string = input(\"Enter a string: \")\n",
    "count = 0\n",
    "for char in string:\n",
    "    if char.lower() not in \"aeiou\":\n",
    "        continue\n",
    "    count += 1\n",
    "print(\"Number of vowels:\", count)"
   ]
  },
  {
   "cell_type": "code",
   "execution_count": 4,
   "id": "0ad053dc",
   "metadata": {},
   "outputs": [
    {
     "name": "stdout",
     "output_type": "stream",
     "text": [
      "Enter a string: Distance\n",
      "All characters are unique\n"
     ]
    }
   ],
   "source": [
    "string = input(\"Enter a string: \")\n",
    "unique = True\n",
    "for i in range(len(string)):\n",
    "    if string[i] in string[i+1:]:\n",
    "        unique = False\n",
    "        break\n",
    "if unique:\n",
    "    print(\"All characters are unique\")\n",
    "else:\n",
    "    print(\"Characters are not unique\")"
   ]
  },
  {
   "cell_type": "code",
   "execution_count": 5,
   "id": "a65cefe2",
   "metadata": {},
   "outputs": [
    {
     "name": "stdout",
     "output_type": "stream",
     "text": [
      "120\n"
     ]
    }
   ],
   "source": [
    "def factorial(n):\n",
    "    if n == 0:\n",
    "        return 1\n",
    "    else:\n",
    "        return n * factorial(n-1)\n",
    "\n",
    "print(factorial(5))"
   ]
  },
  {
   "cell_type": "code",
   "execution_count": 6,
   "id": "28104dc8",
   "metadata": {},
   "outputs": [
    {
     "name": "stdout",
     "output_type": "stream",
     "text": [
      "True\n"
     ]
    }
   ],
   "source": [
    "def is_palindrome(string):\n",
    "    return string == string[::-1]\n",
    "\n",
    "print(is_palindrome(\"racecar\"))"
   ]
  },
  {
   "cell_type": "code",
   "execution_count": 7,
   "id": "47e0a53d",
   "metadata": {},
   "outputs": [
    {
     "name": "stdout",
     "output_type": "stream",
     "text": [
      "Odd\n"
     ]
    }
   ],
   "source": [
    "def even_or_odd(num):\n",
    "    if num % 2 == 0:\n",
    "        return \"Even\"\n",
    "    else:\n",
    "        return \"Odd\"\n",
    "\n",
    "print(even_or_odd(5))"
   ]
  },
  {
   "cell_type": "code",
   "execution_count": 8,
   "id": "3df8705b",
   "metadata": {},
   "outputs": [
    {
     "name": "stdout",
     "output_type": "stream",
     "text": [
      "6\n"
     ]
    }
   ],
   "source": [
    "def list_sum(int_list):\n",
    "    return sum(int_list)\n",
    "\n",
    "print(list_sum([1, 2, 3]))"
   ]
  },
  {
   "cell_type": "code",
   "execution_count": 9,
   "id": "a984b61f",
   "metadata": {},
   "outputs": [
    {
     "name": "stdout",
     "output_type": "stream",
     "text": [
      "6\n"
     ]
    }
   ],
   "source": [
    "def gcd(a, b):\n",
    "    if b == 0:\n",
    "        return a\n",
    "    else:\n",
    "        return gcd(b, a % b)\n",
    "\n",
    "print(gcd(12, 18))"
   ]
  },
  {
   "cell_type": "code",
   "execution_count": 10,
   "id": "494ba18f",
   "metadata": {},
   "outputs": [
    {
     "name": "stdout",
     "output_type": "stream",
     "text": [
      "True\n"
     ]
    }
   ],
   "source": [
    "def is_leap_year(year):\n",
    "    if year % 4 == 0:\n",
    "        if year % 100 == 0:\n",
    "            if year % 400 == 0:\n",
    "                return True\n",
    "            else:\n",
    "                return False\n",
    "        else:\n",
    "            return True\n",
    "    else:\n",
    "        return False\n",
    "\n",
    "print(is_leap_year(2024))"
   ]
  },
  {
   "cell_type": "code",
   "execution_count": 11,
   "id": "bd263920",
   "metadata": {},
   "outputs": [
    {
     "name": "stdout",
     "output_type": "stream",
     "text": [
      "24\n"
     ]
    }
   ],
   "source": [
    "def math_operations(num1, num2, num3, operation):\n",
    "    def add():\n",
    "        return num1 + num2 + num3\n",
    "    def subtract():\n",
    "        return num1 - num2 - num3\n",
    "    def multiply():\n",
    "        return num1 * num2 * num3\n",
    "    def divide():\n",
    "        return num1 / num2 / num3\n",
    "    if operation == \"add\":\n",
    "        return add()\n",
    "    elif operation == \"subtract\":\n",
    "        return subtract()\n",
    "    elif operation == \"multiply\":\n",
    "        return multiply()\n",
    "    elif operation == \"divide\":\n",
    "        return divide()\n",
    "    else:\n",
    "        return \"Invalid operation\"\n",
    "\n",
    "print(math_operations(2, 3, 4, \"multiply\"))"
   ]
  },
  {
   "cell_type": "code",
   "execution_count": 12,
   "id": "11ae4851",
   "metadata": {},
   "outputs": [
    {
     "name": "stdout",
     "output_type": "stream",
     "text": [
      "Hello, John! How are you today?\n"
     ]
    }
   ],
   "source": [
    "def greeting_generator(name):\n",
    "    def hello():\n",
    "        return \"Hello\"\n",
    "    def how_are_you():\n",
    "        return \"How are you today?\"\n",
    "    return f\"{hello()}, {name}! {how_are_you()}\"\n",
    "\n",
    "print(greeting_generator(\"John\"))"
   ]
  },
  {
   "cell_type": "code",
   "execution_count": 13,
   "id": "e48d80ea",
   "metadata": {},
   "outputs": [
    {
     "name": "stdout",
     "output_type": "stream",
     "text": [
      "37.77777777777778\n"
     ]
    }
   ],
   "source": [
    "def temperature_converter(temp, scale):\n",
    "    def celsius_to_fahrenheit(temp):\n",
    "        return (temp * 9/5) + 32\n",
    "    def fahrenheit_to_celsius(temp):\n",
    "        return (temp - 32) * 5/9\n",
    "    if scale == \"C\":\n",
    "        return fahrenheit_to_celsius(temp)\n",
    "    elif scale == \"F\":\n",
    "        return celsius_to_fahrenheit(temp)\n",
    "    else:\n",
    "        return \"Invalid scale\"\n",
    "\n",
    "print(temperature_converter(100, \"C\"))"
   ]
  },
  {
   "cell_type": "code",
   "execution_count": 14,
   "id": "06ea7a5b",
   "metadata": {},
   "outputs": [
    {
     "name": "stdout",
     "output_type": "stream",
     "text": [
      "120\n"
     ]
    }
   ],
   "source": [
    "def factorial(n):\n",
    "    if n == 0:\n",
    "        return 1\n",
    "    else:\n",
    "        return n * factorial(n-1)\n",
    "\n",
    "print(factorial(5))"
   ]
  },
  {
   "cell_type": "code",
   "execution_count": 15,
   "id": "086c65fb",
   "metadata": {},
   "outputs": [
    {
     "name": "stdout",
     "output_type": "stream",
     "text": [
      "55\n"
     ]
    }
   ],
   "source": [
    "def Fibonacci(n):\n",
    "    if n <= 1:\n",
    "        return n\n",
    "    else:\n",
    "        return Fibonacci(n-1) + Fibonacci(n-2)\n",
    "\n",
    "print(Fibonacci(10))"
   ]
  },
  {
   "cell_type": "code",
   "execution_count": 16,
   "id": "f7385ee0",
   "metadata": {},
   "outputs": [
    {
     "name": "stdout",
     "output_type": "stream",
     "text": [
      "15\n"
     ]
    }
   ],
   "source": [
    "def sum_of_digits(n):\n",
    "    if n < 10:\n",
    "        return n\n",
    "    else:\n",
    "        return n % 10 + sum_of_digits(n // 10)\n",
    "\n",
    "print(sum_of_digits(12345))"
   ]
  },
  {
   "cell_type": "code",
   "execution_count": 17,
   "id": "2096b693",
   "metadata": {},
   "outputs": [
    {
     "name": "stdout",
     "output_type": "stream",
     "text": [
      "Element is present at index 3\n"
     ]
    }
   ],
   "source": [
    "def binary_search(arr, low, high, x):\n",
    "    if high >= low:\n",
    "        mid = (high + low) // 2\n",
    "        if arr[mid] == x:\n",
    "            return mid\n",
    "        elif arr[mid] > x:\n",
    "            return binary_search(arr, low, mid-1, x)\n",
    "        else:\n",
    "            return binary_search(arr, mid+1, high, x)\n",
    "    else:\n",
    "        return -1\n",
    "\n",
    "arr = [2, 3, 4, 10, 40]\n",
    "x = 10\n",
    "result = binary_search(arr, 0, len(arr)-1, x)\n",
    "if result != -1:\n",
    "    print(f\"Element is present at index {result}\")\n",
    "else:\n",
    "    print(\"Element is not present in array\")"
   ]
  },
  {
   "cell_type": "code",
   "execution_count": 18,
   "id": "7c750fd4",
   "metadata": {},
   "outputs": [
    {
     "name": "stdout",
     "output_type": "stream",
     "text": [
      "8\n"
     ]
    }
   ],
   "source": [
    "def power(base, exponent):\n",
    "    if exponent == 0:\n",
    "        return 1\n",
    "    else:\n",
    "        return base * power(base, exponent-1)\n",
    "\n",
    "print(power(2, 3))"
   ]
  },
  {
   "cell_type": "code",
   "execution_count": null,
   "id": "60eaf703",
   "metadata": {},
   "outputs": [],
   "source": []
  }
 ],
 "metadata": {
  "kernelspec": {
   "display_name": "Python 3 (ipykernel)",
   "language": "python",
   "name": "python3"
  },
  "language_info": {
   "codemirror_mode": {
    "name": "ipython",
    "version": 3
   },
   "file_extension": ".py",
   "mimetype": "text/x-python",
   "name": "python",
   "nbconvert_exporter": "python",
   "pygments_lexer": "ipython3",
   "version": "3.11.5"
  }
 },
 "nbformat": 4,
 "nbformat_minor": 5
}
